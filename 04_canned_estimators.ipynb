{
 "cells": [
  {
   "cell_type": "markdown",
   "metadata": {},
   "source": [
    "### Canned Estimators"
   ]
  },
  {
   "cell_type": "markdown",
   "metadata": {},
   "source": [
    "Source: https://github.com/random-forests/tensorflow-workshop/blob/master/examples/04_canned_estimators.ipynb\n",
    "\n",
    "In this notebook we'll demonstrate how to use two Canned Estimators (these encapsulate the lower-level TensorFlow code we've seen so far, and use an API loosely inspired by [scikit-learn](http://scikit-learn.org). There are several advantages to Canned Estimators.\n",
    "\n",
    "* If you're using Estimators, you won't have to manage Sessions, or write your own logic for TensorBoard, or for saving and loading checkpoints.\n",
    "\n",
    "\n",
    "* You'll get out-of-the-box distributed training (of course, you will have to take care to read your data efficiently, and set up a cluster).\n",
    "\n",
    "Here, we'll read data using [input functions](https://www.tensorflow.org/api_docs/python/tf/estimator/inputs/numpy_input_fn), which are appropriate for in-memory data. \n",
    "\n",
    "* These provide batching and other features for you, so you don't have to write that code yourself.\n",
    "\n",
    "\n",
    "* In the strucuted data notebook, we'll use the new [Dataset API](https://www.tensorflow.org/programmers_guide/datasets) - which is a popular abstraction, and a great way to efficiently read and pre-process large datasets efficiently.\n",
    "\n",
    "Although the Estimators we'll use here are relative simple (a LinearClassifier, and a Fully Connected Deep Neural Network), we also provide more interesting ones (including for [TensorFlow Wide and Deep](https://www.tensorflow.org/tutorials/wide_and_deep). I'm also excited that additional Estimators are on their way - stay tuned in the upcoming months.\n",
    "\n",
    "Also note that Estimators log quite a lot of output"
   ]
  },
  {
   "cell_type": "code",
   "execution_count": 1,
   "metadata": {
    "collapsed": true
   },
   "outputs": [],
   "source": [
    "import numpy as np\n",
    "import tensorflow as tf"
   ]
  },
  {
   "cell_type": "code",
   "execution_count": 2,
   "metadata": {},
   "outputs": [
    {
     "name": "stdout",
     "output_type": "stream",
     "text": [
      "Extracting ./data/train-images-idx3-ubyte.gz\n",
      "Extracting ./data/train-labels-idx1-ubyte.gz\n",
      "Extracting ./data/t10k-images-idx3-ubyte.gz\n",
      "Extracting ./data/t10k-labels-idx1-ubyte.gz\n"
     ]
    }
   ],
   "source": [
    "from tensorflow.examples.tutorials.mnist import input_data\n",
    "\n",
    "# It will be downloaded to './data' if you don't already have a local copy.\n",
    "mnist = input_data.read_data_sets('./data', one_hot=False)\n",
    "\n",
    "x_train = mnist.train.images\n",
    "y_train = mnist.train.labels.astype(np.int32)\n",
    "x_test = mnist.test.images\n",
    "y_test = mnist.test.labels.astype(np.int32)"
   ]
  },
  {
   "cell_type": "markdown",
   "metadata": {},
   "source": [
    "Here's our input function. \n",
    "\n",
    "* By setting ```num_epochs``` to ```None```, we'll loop over the data indefinitely so we can train for as long as we like.\n",
    "* The default ```batch_size``` is ```128```, but you can provide a different parameter if you like.\n",
    "\n",
    "You can read more about the numpy input function [here](https://www.tensorflow.org/api_docs/python/tf/estimator/inputs/numpy_input_fn). We also provide a nice one for [Pandas](https://www.tensorflow.org/api_docs/python/tf/estimator/inputs/pandas_input_fn), more on that later."
   ]
  },
  {
   "cell_type": "code",
   "execution_count": 3,
   "metadata": {
    "collapsed": true
   },
   "outputs": [],
   "source": [
    "train_input = tf.estimator.inputs.numpy_input_fn(\n",
    "    {'x': x_train},\n",
    "    y_train, \n",
    "    num_epochs=None, # repeat forever\n",
    "    shuffle=True # \n",
    ")"
   ]
  },
  {
   "cell_type": "code",
   "execution_count": 4,
   "metadata": {
    "collapsed": true
   },
   "outputs": [],
   "source": [
    "test_input = tf.estimator.inputs.numpy_input_fn(\n",
    "    {'x': x_test},\n",
    "    y_test,\n",
    "    num_epochs=1, # loop through the dataset once\n",
    "    shuffle=False # don't shuffle the test data\n",
    ")"
   ]
  },
  {
   "cell_type": "code",
   "execution_count": 5,
   "metadata": {
    "collapsed": true
   },
   "outputs": [],
   "source": [
    "# define the features for our model\n",
    "# the names must match the input function\n",
    "feature_spec = [tf.feature_column.numeric_column('x', shape=784)]"
   ]
  },
  {
   "cell_type": "markdown",
   "metadata": {},
   "source": [
    "Here, we'll create a ```LinearClassifier``` - this is identical to our Softmax (aka, multiclass logistic regression model) from the second notebok."
   ]
  },
  {
   "cell_type": "code",
   "execution_count": 6,
   "metadata": {},
   "outputs": [
    {
     "name": "stdout",
     "output_type": "stream",
     "text": [
      "INFO:tensorflow:Using default config.\n",
      "INFO:tensorflow:Using config: {'_model_dir': './graphs/04_canned/linear', '_tf_random_seed': 1, '_save_summary_steps': 100, '_save_checkpoints_secs': 600, '_save_checkpoints_steps': None, '_session_config': None, '_keep_checkpoint_max': 5, '_keep_checkpoint_every_n_hours': 10000, '_log_step_count_steps': 100}\n"
     ]
    }
   ],
   "source": [
    "estimator = tf.estimator.LinearClassifier(feature_spec,\n",
    "                                          n_classes=10,\n",
    "                                          model_dir=\"./graphs/04_canned/linear\")"
   ]
  },
  {
   "cell_type": "code",
   "execution_count": 7,
   "metadata": {},
   "outputs": [
    {
     "name": "stdout",
     "output_type": "stream",
     "text": [
      "INFO:tensorflow:Create CheckpointSaverHook.\n",
      "INFO:tensorflow:Saving checkpoints for 1 into ./graphs/04_canned/linear/model.ckpt.\n",
      "INFO:tensorflow:loss = 294.731, step = 1\n",
      "INFO:tensorflow:global_step/sec: 423.716\n",
      "INFO:tensorflow:loss = 78.2788, step = 101 (0.237 sec)\n",
      "INFO:tensorflow:global_step/sec: 570.363\n",
      "INFO:tensorflow:loss = 34.4535, step = 201 (0.175 sec)\n",
      "INFO:tensorflow:global_step/sec: 669.707\n",
      "INFO:tensorflow:loss = 32.9108, step = 301 (0.149 sec)\n",
      "INFO:tensorflow:global_step/sec: 718.933\n",
      "INFO:tensorflow:loss = 59.5948, step = 401 (0.139 sec)\n",
      "INFO:tensorflow:global_step/sec: 722.34\n",
      "INFO:tensorflow:loss = 39.6534, step = 501 (0.138 sec)\n",
      "INFO:tensorflow:global_step/sec: 717.417\n",
      "INFO:tensorflow:loss = 31.2589, step = 601 (0.139 sec)\n",
      "INFO:tensorflow:global_step/sec: 713.803\n",
      "INFO:tensorflow:loss = 26.0216, step = 701 (0.140 sec)\n",
      "INFO:tensorflow:global_step/sec: 658.9\n",
      "INFO:tensorflow:loss = 44.4672, step = 801 (0.152 sec)\n",
      "INFO:tensorflow:global_step/sec: 709.915\n",
      "INFO:tensorflow:loss = 38.5817, step = 901 (0.141 sec)\n",
      "INFO:tensorflow:Saving checkpoints for 1000 into ./graphs/04_canned/linear/model.ckpt.\n",
      "INFO:tensorflow:Loss for final step: 31.0733.\n"
     ]
    },
    {
     "data": {
      "text/plain": [
       "<tensorflow.python.estimator.canned.linear.LinearClassifier at 0x115098c18>"
      ]
     },
     "execution_count": 7,
     "metadata": {},
     "output_type": "execute_result"
    }
   ],
   "source": [
    "# I've arbitrarily decided to train for 1000 steps\n",
    "estimator.train(train_input, steps=1000)"
   ]
  },
  {
   "cell_type": "code",
   "execution_count": 8,
   "metadata": {},
   "outputs": [
    {
     "name": "stdout",
     "output_type": "stream",
     "text": [
      "INFO:tensorflow:Starting evaluation at 2017-10-01-17:32:46\n",
      "INFO:tensorflow:Restoring parameters from ./graphs/04_canned/linear/model.ckpt-1000\n",
      "INFO:tensorflow:Finished evaluation at 2017-10-01-17:32:47\n",
      "INFO:tensorflow:Saving dict for global step 1000: accuracy = 0.9244, average_loss = 0.282789, global_step = 1000, loss = 35.7961\n",
      "{'accuracy': 0.92439997, 'average_loss': 0.28278899, 'loss': 35.796074, 'global_step': 1000}\n"
     ]
    }
   ],
   "source": [
    "# We should see about 90% accuracy here.\n",
    "evaluation = estimator.evaluate(input_fn=test_input)\n",
    "print(evaluation)"
   ]
  },
  {
   "cell_type": "markdown",
   "metadata": {},
   "source": [
    "Here's how you would print individual predictions."
   ]
  },
  {
   "cell_type": "code",
   "execution_count": 9,
   "metadata": {},
   "outputs": [
    {
     "name": "stdout",
     "output_type": "stream",
     "text": [
      "INFO:tensorflow:Restoring parameters from ./graphs/04_canned/linear/model.ckpt-1000\n",
      "Example 0. True: 7, Predicted: 7\n",
      "Example 1. True: 2, Predicted: 2\n",
      "Example 2. True: 1, Predicted: 1\n",
      "Example 3. True: 0, Predicted: 0\n",
      "Example 4. True: 4, Predicted: 4\n"
     ]
    }
   ],
   "source": [
    "MAX_TO_PRINT = 5\n",
    "\n",
    "# This returns a generator object\n",
    "predictions = estimator.predict(input_fn=test_input)\n",
    "i = 0\n",
    "for p in predictions:\n",
    "    true_label = y_test[i]\n",
    "    predicted_label = p['class_ids'][0]\n",
    "    print(\"Example %d. True: %d, Predicted: %d\" % (i, true_label, predicted_label))\n",
    "    i += 1\n",
    "    if i == MAX_TO_PRINT: break"
   ]
  },
  {
   "cell_type": "markdown",
   "metadata": {},
   "source": [
    "Here's how easy it is to switch the model to a fully connected DNN."
   ]
  },
  {
   "cell_type": "code",
   "execution_count": 10,
   "metadata": {},
   "outputs": [
    {
     "name": "stdout",
     "output_type": "stream",
     "text": [
      "INFO:tensorflow:Using default config.\n",
      "INFO:tensorflow:Using config: {'_model_dir': './graphs/04_canned/deep', '_tf_random_seed': 1, '_save_summary_steps': 100, '_save_checkpoints_secs': 600, '_save_checkpoints_steps': None, '_session_config': None, '_keep_checkpoint_max': 5, '_keep_checkpoint_every_n_hours': 10000, '_log_step_count_steps': 100}\n"
     ]
    }
   ],
   "source": [
    "estimator = tf.estimator.DNNClassifier(\n",
    "    hidden_units=[256], # we will arbitrarily use two layers\n",
    "    feature_columns=feature_spec,\n",
    "    n_classes=10,\n",
    "    model_dir=\"./graphs/04_canned/deep\")"
   ]
  },
  {
   "cell_type": "code",
   "execution_count": 11,
   "metadata": {},
   "outputs": [
    {
     "name": "stdout",
     "output_type": "stream",
     "text": [
      "INFO:tensorflow:Create CheckpointSaverHook.\n",
      "INFO:tensorflow:Saving checkpoints for 1 into ./graphs/04_canned/deep/model.ckpt.\n",
      "INFO:tensorflow:loss = 307.062, step = 1\n",
      "INFO:tensorflow:global_step/sec: 150.782\n",
      "INFO:tensorflow:loss = 33.6069, step = 101 (0.665 sec)\n",
      "INFO:tensorflow:global_step/sec: 174.718\n",
      "INFO:tensorflow:loss = 17.999, step = 201 (0.572 sec)\n",
      "INFO:tensorflow:global_step/sec: 200.66\n",
      "INFO:tensorflow:loss = 14.8136, step = 301 (0.498 sec)\n",
      "INFO:tensorflow:global_step/sec: 203.317\n",
      "INFO:tensorflow:loss = 15.2711, step = 401 (0.492 sec)\n",
      "INFO:tensorflow:global_step/sec: 203.068\n",
      "INFO:tensorflow:loss = 6.86588, step = 501 (0.493 sec)\n",
      "INFO:tensorflow:global_step/sec: 203.259\n",
      "INFO:tensorflow:loss = 6.40926, step = 601 (0.492 sec)\n",
      "INFO:tensorflow:global_step/sec: 184.367\n",
      "INFO:tensorflow:loss = 10.7463, step = 701 (0.542 sec)\n",
      "INFO:tensorflow:global_step/sec: 158.124\n",
      "INFO:tensorflow:loss = 10.4022, step = 801 (0.633 sec)\n",
      "INFO:tensorflow:global_step/sec: 189.523\n",
      "INFO:tensorflow:loss = 10.6703, step = 901 (0.527 sec)\n",
      "INFO:tensorflow:global_step/sec: 189.261\n",
      "INFO:tensorflow:loss = 5.34793, step = 1001 (0.529 sec)\n",
      "INFO:tensorflow:global_step/sec: 153.661\n",
      "INFO:tensorflow:loss = 13.3164, step = 1101 (0.651 sec)\n",
      "INFO:tensorflow:global_step/sec: 183.711\n",
      "INFO:tensorflow:loss = 16.5917, step = 1201 (0.543 sec)\n",
      "INFO:tensorflow:global_step/sec: 186.436\n",
      "INFO:tensorflow:loss = 6.69034, step = 1301 (0.537 sec)\n",
      "INFO:tensorflow:global_step/sec: 187.111\n",
      "INFO:tensorflow:loss = 9.04329, step = 1401 (0.534 sec)\n",
      "INFO:tensorflow:global_step/sec: 201.356\n",
      "INFO:tensorflow:loss = 9.28671, step = 1501 (0.496 sec)\n",
      "INFO:tensorflow:global_step/sec: 174.177\n",
      "INFO:tensorflow:loss = 3.55627, step = 1601 (0.575 sec)\n",
      "INFO:tensorflow:global_step/sec: 146.13\n",
      "INFO:tensorflow:loss = 9.75959, step = 1701 (0.685 sec)\n",
      "INFO:tensorflow:global_step/sec: 177.67\n",
      "INFO:tensorflow:loss = 3.19431, step = 1801 (0.562 sec)\n",
      "INFO:tensorflow:global_step/sec: 177.385\n",
      "INFO:tensorflow:loss = 5.89862, step = 1901 (0.563 sec)\n",
      "INFO:tensorflow:Saving checkpoints for 2000 into ./graphs/04_canned/deep/model.ckpt.\n",
      "INFO:tensorflow:Loss for final step: 0.95304.\n"
     ]
    },
    {
     "data": {
      "text/plain": [
       "<tensorflow.python.estimator.canned.dnn.DNNClassifier at 0x1217da128>"
      ]
     },
     "execution_count": 11,
     "metadata": {},
     "output_type": "execute_result"
    }
   ],
   "source": [
    "# I've arbitrarily decided to train for 2000 steps\n",
    "estimator.train(train_input, steps=2000)"
   ]
  },
  {
   "cell_type": "code",
   "execution_count": 12,
   "metadata": {},
   "outputs": [
    {
     "name": "stdout",
     "output_type": "stream",
     "text": [
      "INFO:tensorflow:Starting evaluation at 2017-10-01-17:33:01\n",
      "INFO:tensorflow:Restoring parameters from ./graphs/04_canned/deep/model.ckpt-2000\n",
      "INFO:tensorflow:Finished evaluation at 2017-10-01-17:33:02\n",
      "INFO:tensorflow:Saving dict for global step 2000: accuracy = 0.9752, average_loss = 0.0790281, global_step = 2000, loss = 10.0036\n",
      "{'accuracy': 0.9752, 'average_loss': 0.079028137, 'loss': 10.003562, 'global_step': 2000}\n"
     ]
    }
   ],
   "source": [
    "# Expect accuracy around 97%\n",
    "evaluation = estimator.evaluate(input_fn=test_input)\n",
    "print(evaluation)"
   ]
  },
  {
   "cell_type": "markdown",
   "metadata": {},
   "source": [
    "If you like, you can compare these runs with TensorBoard.\n",
    "\n",
    "``` $ tensorboard --logdir=graphs/04_canned/ ```"
   ]
  },
  {
   "cell_type": "code",
   "execution_count": null,
   "metadata": {
    "collapsed": true
   },
   "outputs": [],
   "source": []
  }
 ],
 "metadata": {
  "kernelspec": {
   "display_name": "Python 3",
   "language": "python",
   "name": "python3"
  },
  "language_info": {
   "codemirror_mode": {
    "name": "ipython",
    "version": 3
   },
   "file_extension": ".py",
   "mimetype": "text/x-python",
   "name": "python",
   "nbconvert_exporter": "python",
   "pygments_lexer": "ipython3",
   "version": "3.6.2"
  }
 },
 "nbformat": 4,
 "nbformat_minor": 2
}
