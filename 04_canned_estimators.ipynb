{
 "cells": [
  {
   "cell_type": "markdown",
   "metadata": {},
   "source": [
    "# Canned Estimators"
   ]
  },
  {
   "cell_type": "markdown",
   "metadata": {},
   "source": [
    "Sources:\n",
    "  * https://github.com/random-forests/tensorflow-workshop/blob/master/examples/04_canned_estimators.ipynb\n",
    "  * https://www.tensorflow.org/programmers_guide/estimators\n",
    "  * https://www.tensorflow.org/get_started/estimator\n",
    "\n",
    "In this notebook we'll demonstrate how to use two Canned Estimators (\"models-in-a-box\").\n",
    "[TensorFlow Estimators](https://www.tensorflow.org/get_started/estimator) provide a high-level API loosely inspired by [scikit-learn](http://scikit-learn.org) to train your models. These encapsulate the lower-level TensorFlow code we've seen so far, so you can focus on solving your problem. There are several advantages to Canned Estimators.\n",
    "\n",
    "* Estimators build the graph for you – you don't have to build the graph.\n",
    "\n",
    "\n",
    "* You won't have to manage Sessions, or write your own logic for TensorBoard, or for saving and loading checkpoints.\n",
    "\n",
    "\n",
    "* You'll get out-of-the-box distributed training (of course, you will have to take care to read your data efficiently, and set up a cluster).\n",
    "\n",
    "\n",
    "Here's a diagram of the methods we'll use here."
   ]
  },
  {
   "cell_type": "code",
   "execution_count": 1,
   "metadata": {},
   "outputs": [
    {
     "data": {
      "text/html": [
       "<img src=\"https://raw.githubusercontent.com/random-forests/tensorflow-workshop/master/images/estimators1.jpeg\" width=\"400\"/>"
      ],
      "text/plain": [
       "<IPython.core.display.Image object>"
      ]
     },
     "execution_count": 1,
     "metadata": {},
     "output_type": "execute_result"
    }
   ],
   "source": [
    "from IPython.display import Image\n",
    "\n",
    "Image(url='https://raw.githubusercontent.com/random-forests/tensorflow-workshop/master/images/estimators1.jpeg',\n",
    "      width=400)"
   ]
  },
  {
   "cell_type": "markdown",
   "metadata": {},
   "source": [
    "You can probably guess the purpose of methods like train / evaluate / and predict. What may be new to you, though, are [Input Functions](https://www.tensorflow.org/get_started/estimator#describe_the_training_input_pipeline). These are responsible for reading your data, preprocessing it, and sending it to the model. When you use an input function, your code will read ``estimator.train(your_input_function)`` rather than ``estimator.train(your_training_data)``."
   ]
  },
  {
   "cell_type": "code",
   "execution_count": 2,
   "metadata": {
    "collapsed": true
   },
   "outputs": [],
   "source": [
    "import numpy as np\n",
    "import tensorflow as tf\n",
    "\n",
    "import matplotlib.pyplot as plt\n",
    "%matplotlib inline"
   ]
  },
  {
   "cell_type": "markdown",
   "metadata": {},
   "source": [
    "## Input Functions"
   ]
  },
  {
   "cell_type": "markdown",
   "metadata": {},
   "source": [
    "We will be using MNIST dataset, but in contrast to before, each label corresponds to a single integer instead of a vector (one-hot encoding)."
   ]
  },
  {
   "cell_type": "code",
   "execution_count": 3,
   "metadata": {},
   "outputs": [
    {
     "name": "stdout",
     "output_type": "stream",
     "text": [
      "Extracting ./data/train-images-idx3-ubyte.gz\n",
      "Extracting ./data/train-labels-idx1-ubyte.gz\n",
      "Extracting ./data/t10k-images-idx3-ubyte.gz\n",
      "Extracting ./data/t10k-labels-idx1-ubyte.gz\n"
     ]
    }
   ],
   "source": [
    "from tensorflow.examples.tutorials.mnist import input_data\n",
    "\n",
    "# It will be downloaded to './data' if you don't already have a local copy.\n",
    "mnist = input_data.read_data_sets('./data', one_hot=False)\n",
    "\n",
    "images_train = mnist.train.images\n",
    "labels_train = mnist.train.labels.astype(np.int32)\n",
    "images_test = mnist.test.images\n",
    "labels_test = mnist.test.labels.astype(np.int32)"
   ]
  },
  {
   "cell_type": "markdown",
   "metadata": {},
   "source": [
    "The ``tf.estimator`` API uses input functions, which create the TensorFlow operations that generate data for the model. These provide batching and other features for you, so you don't have to write that code yourself. Here, we'll read data using [tf.estimator.inputs.numpy_input_fn](https://www.tensorflow.org/api_docs/python/tf/estimator/inputs/numpy_input_fn), which is appropriate for in-memory data. For large datasets that do not fit in memory, the new [Dataset API](https://www.tensorflow.org/programmers_guide/datasets) is preferred.\n",
    "\n",
    "We'll define one function to import the training set and another function to import the test set."
   ]
  },
  {
   "cell_type": "code",
   "execution_count": 4,
   "metadata": {},
   "outputs": [],
   "source": [
    "train_input = tf.estimator.inputs.numpy_input_fn(\n",
    "    {'x': images_train},\n",
    "    labels_train, \n",
    "    num_epochs=None, # repeat forever\n",
    "    shuffle=True     # shuffle the training data \n",
    ")"
   ]
  },
  {
   "cell_type": "code",
   "execution_count": 5,
   "metadata": {
    "collapsed": true
   },
   "outputs": [],
   "source": [
    "test_input = tf.estimator.inputs.numpy_input_fn(\n",
    "    {'x': images_test},\n",
    "    labels_test,\n",
    "    num_epochs=1, # loop through the dataset once\n",
    "    shuffle=False # don't shuffle the test data\n",
    ")"
   ]
  },
  {
   "cell_type": "markdown",
   "metadata": {},
   "source": [
    "Why do we need two input functions? There are a couple differences in how we handle our training and testing data. We want the training input function to loop over the data indefinitely (returning batches of examples and labels when called). We want the testing input function run for just one epoch, so we can make one prediction for each testing example. We'll also want to shuffle the training data, but not the testing data (so we can compare it to the labels later).\n",
    "\n",
    "* By setting ```num_epochs``` to ```None```, we'll loop over the data indefinitely so we can train for as long as we like.\n",
    "* The default ```batch_size``` is ```128```, but you can provide a different parameter if you like.\n",
    "\n",
    "You can read more about the numpy input function [here](https://www.tensorflow.org/api_docs/python/tf/estimator/inputs/numpy_input_fn). Alternatively, you can use an [input function](https://www.tensorflow.org/api_docs/python/tf/estimator/inputs/pandas_input_fn) that can process ``pandas.DataFrame``s."
   ]
  },
  {
   "cell_type": "markdown",
   "metadata": {},
   "source": [
    "## Define Feature Columns"
   ]
  },
  {
   "cell_type": "markdown",
   "metadata": {},
   "source": [
    "Next we need to define the model's feature columns, which specify the data type for the features in the data set. All the features are continuous, so ``tf.feature_column.numeric_column`` is the appropriate function to use to construct the feature columns. "
   ]
  },
  {
   "cell_type": "code",
   "execution_count": 6,
   "metadata": {
    "collapsed": true
   },
   "outputs": [],
   "source": [
    "# the names must match the input function\n",
    "feature_columns = [tf.feature_column.numeric_column('x', shape=784)]"
   ]
  },
  {
   "cell_type": "markdown",
   "metadata": {},
   "source": [
    "## Instantiate pre-made Estimator"
   ]
  },
  {
   "cell_type": "markdown",
   "metadata": {},
   "source": [
    "Here, we'll create a [LinearClassifier](https://www.tensorflow.org/api_docs/python/tf/estimator/LinearClassifier) - this is identical to our Softmax (aka, multiclass logistic regression model) from the third notebok."
   ]
  },
  {
   "cell_type": "code",
   "execution_count": 7,
   "metadata": {},
   "outputs": [
    {
     "name": "stdout",
     "output_type": "stream",
     "text": [
      "INFO:tensorflow:Using default config.\n",
      "INFO:tensorflow:Using config: {'_model_dir': './graphs/04_canned/linear', '_tf_random_seed': 1, '_save_summary_steps': 100, '_save_checkpoints_secs': 600, '_save_checkpoints_steps': None, '_session_config': None, '_keep_checkpoint_max': 5, '_keep_checkpoint_every_n_hours': 10000, '_log_step_count_steps': 100}\n"
     ]
    }
   ],
   "source": [
    "estimator = tf.estimator.LinearClassifier(\n",
    "    feature_columns=feature_columns,\n",
    "    n_classes=10,\n",
    "    model_dir=\"./graphs/04_canned/linear\"\n",
    ")"
   ]
  },
  {
   "cell_type": "markdown",
   "metadata": {},
   "source": [
    "The code creates a ``LinearClassifier`` model using the following arguments:\n",
    "\n",
    "  * ``feature_columns=feature_columns``: The set of feature columns defined above.  \n",
    "  * ``n_classes=10``: The target classes, representing the digits.\n",
    "  * ``model_dir=\"./graphs/04_canned/linear\"``: The directory in which TensorFlow will save checkpoint data and TensorBoard summaries during model training."
   ]
  },
  {
   "cell_type": "markdown",
   "metadata": {},
   "source": [
    "## Train and evaluate the model"
   ]
  },
  {
   "cell_type": "code",
   "execution_count": 8,
   "metadata": {},
   "outputs": [
    {
     "name": "stdout",
     "output_type": "stream",
     "text": [
      "INFO:tensorflow:Create CheckpointSaverHook.\n",
      "INFO:tensorflow:Restoring parameters from ./graphs/04_canned/linear/model.ckpt-2000\n",
      "INFO:tensorflow:Saving checkpoints for 2001 into ./graphs/04_canned/linear/model.ckpt.\n",
      "INFO:tensorflow:loss = 32.1833, step = 2001\n",
      "INFO:tensorflow:global_step/sec: 598.619\n",
      "INFO:tensorflow:loss = 33.8894, step = 2101 (0.168 sec)\n",
      "INFO:tensorflow:global_step/sec: 701.149\n",
      "INFO:tensorflow:loss = 34.0114, step = 2201 (0.142 sec)\n",
      "INFO:tensorflow:global_step/sec: 654.416\n",
      "INFO:tensorflow:loss = 40.7652, step = 2301 (0.154 sec)\n",
      "INFO:tensorflow:global_step/sec: 604.043\n",
      "INFO:tensorflow:loss = 36.6944, step = 2401 (0.164 sec)\n",
      "INFO:tensorflow:global_step/sec: 667.478\n",
      "INFO:tensorflow:loss = 15.3372, step = 2501 (0.150 sec)\n",
      "INFO:tensorflow:global_step/sec: 690.35\n",
      "INFO:tensorflow:loss = 20.87, step = 2601 (0.145 sec)\n",
      "INFO:tensorflow:global_step/sec: 673.858\n",
      "INFO:tensorflow:loss = 24.9973, step = 2701 (0.149 sec)\n",
      "INFO:tensorflow:global_step/sec: 676.169\n",
      "INFO:tensorflow:loss = 47.8588, step = 2801 (0.148 sec)\n",
      "INFO:tensorflow:global_step/sec: 598.133\n",
      "INFO:tensorflow:loss = 23.4726, step = 2901 (0.167 sec)\n",
      "INFO:tensorflow:Saving checkpoints for 3000 into ./graphs/04_canned/linear/model.ckpt.\n",
      "INFO:tensorflow:Loss for final step: 26.9286.\n"
     ]
    },
    {
     "data": {
      "text/plain": [
       "<tensorflow.python.estimator.canned.linear.LinearClassifier at 0x11ba02e48>"
      ]
     },
     "execution_count": 8,
     "metadata": {},
     "output_type": "execute_result"
    }
   ],
   "source": [
    "# I've arbitrarily decided to train for 1000 steps\n",
    "estimator.train(input_fn=train_input, steps=1000)"
   ]
  },
  {
   "cell_type": "code",
   "execution_count": 9,
   "metadata": {},
   "outputs": [
    {
     "name": "stdout",
     "output_type": "stream",
     "text": [
      "INFO:tensorflow:Starting evaluation at 2017-10-03-21:14:45\n",
      "INFO:tensorflow:Restoring parameters from ./graphs/04_canned/linear/model.ckpt-3000\n",
      "INFO:tensorflow:Finished evaluation at 2017-10-03-21:14:46\n",
      "INFO:tensorflow:Saving dict for global step 3000: accuracy = 0.9252, average_loss = 0.273583, global_step = 3000, loss = 34.6307\n",
      "{'accuracy': 0.92519999, 'average_loss': 0.27358285, 'loss': 34.630737, 'global_step': 3000}\n"
     ]
    }
   ],
   "source": [
    "# We should see about 90% accuracy here.\n",
    "evaluation = estimator.evaluate(input_fn=test_input)\n",
    "print(evaluation)"
   ]
  },
  {
   "cell_type": "markdown",
   "metadata": {},
   "source": [
    "## Making predictions"
   ]
  },
  {
   "cell_type": "markdown",
   "metadata": {},
   "source": [
    "The ``Estimator`` returns a generator object. This bit of code demonstrates how to retrieve predictions for individual examples."
   ]
  },
  {
   "cell_type": "code",
   "execution_count": 10,
   "metadata": {},
   "outputs": [
    {
     "name": "stdout",
     "output_type": "stream",
     "text": [
      "INFO:tensorflow:Restoring parameters from ./graphs/04_canned/linear/model.ckpt-3000\n"
     ]
    },
    {
     "data": {
      "image/png": "[encoded data removed]",
      "text/plain": [
       "<matplotlib.figure.Figure at 0x127c5dc18>"
      ]
     },
     "metadata": {},
     "output_type": "display_data"
    }
   ],
   "source": [
    "# This returns a generator object\n",
    "predictions = estimator.predict(input_fn=test_input)\n",
    "\n",
    "# how many digits we will display\n",
    "n = 10\n",
    "\n",
    "i = 0\n",
    "plt.figure(figsize=(20, 4))\n",
    "for p in predictions:\n",
    "    # display original\n",
    "    ax = plt.subplot(2, n, i + 1)\n",
    "    ax.imshow(images_test[i].reshape(28, 28), cmap=plt.cm.gray_r)\n",
    "    actual = labels_test[i]\n",
    "    predicted = p['class_ids'][0]\n",
    "    ax.set_title(\"Predicted: %d\\nActual: %d\" % (predicted, actual))\n",
    "    ax.get_xaxis().set_visible(False)\n",
    "    ax.get_yaxis().set_visible(False)\n",
    "    i += 1\n",
    "    if i == n:\n",
    "        break"
   ]
  },
  {
   "cell_type": "markdown",
   "metadata": {},
   "source": [
    "# Deep neural network"
   ]
  },
  {
   "cell_type": "markdown",
   "metadata": {},
   "source": [
    "``tf.estimator`` offers a variety of predefined models. Here, we'll configure a *Deep Neural Network Classifier* model using the provided [DNNClassifier](https://www.tensorflow.org/api_docs/python/tf/estimator/DNNClassifier) class. We supply all the configuration parameters right in the constructor, e.g.:"
   ]
  },
  {
   "cell_type": "code",
   "execution_count": 12,
   "metadata": {},
   "outputs": [
    {
     "name": "stdout",
     "output_type": "stream",
     "text": [
      "INFO:tensorflow:Using default config.\n",
      "INFO:tensorflow:Using config: {'_model_dir': './graphs/04_canned/deep', '_tf_random_seed': 1, '_save_summary_steps': 100, '_save_checkpoints_secs': 600, '_save_checkpoints_steps': None, '_session_config': None, '_keep_checkpoint_max': 5, '_keep_checkpoint_every_n_hours': 10000, '_log_step_count_steps': 100}\n"
     ]
    }
   ],
   "source": [
    "estimator = tf.estimator.DNNClassifier(\n",
    "    feature_columns=feature_columns,\n",
    "    hidden_units=[256, 256], # we will arbitrarily use two hidden layer\n",
    "    n_classes=10,\n",
    "    model_dir=\"./graphs/04_canned/deep\")"
   ]
  },
  {
   "cell_type": "markdown",
   "metadata": {},
   "source": [
    "See how easy it is to switch the model to a fully connected DNN."
   ]
  },
  {
   "cell_type": "code",
   "execution_count": 13,
   "metadata": {},
   "outputs": [
    {
     "name": "stdout",
     "output_type": "stream",
     "text": [
      "INFO:tensorflow:Create CheckpointSaverHook.\n",
      "INFO:tensorflow:Restoring parameters from ./graphs/04_canned/deep/model.ckpt-4000\n",
      "INFO:tensorflow:Saving checkpoints for 4001 into ./graphs/04_canned/deep/model.ckpt.\n",
      "INFO:tensorflow:loss = 0.988206, step = 4001\n",
      "INFO:tensorflow:global_step/sec: 151.737\n",
      "INFO:tensorflow:loss = 0.55815, step = 4101 (0.660 sec)\n",
      "INFO:tensorflow:global_step/sec: 156.458\n",
      "INFO:tensorflow:loss = 2.24853, step = 4201 (0.640 sec)\n",
      "INFO:tensorflow:global_step/sec: 154.656\n",
      "INFO:tensorflow:loss = 0.795035, step = 4301 (0.646 sec)\n",
      "INFO:tensorflow:global_step/sec: 149.701\n",
      "INFO:tensorflow:loss = 2.56438, step = 4401 (0.668 sec)\n",
      "INFO:tensorflow:global_step/sec: 152.221\n",
      "INFO:tensorflow:loss = 1.87555, step = 4501 (0.659 sec)\n",
      "INFO:tensorflow:global_step/sec: 147.595\n",
      "INFO:tensorflow:loss = 2.76659, step = 4601 (0.675 sec)\n",
      "INFO:tensorflow:global_step/sec: 155.876\n",
      "INFO:tensorflow:loss = 0.963839, step = 4701 (0.642 sec)\n",
      "INFO:tensorflow:global_step/sec: 155.463\n",
      "INFO:tensorflow:loss = 1.8605, step = 4801 (0.643 sec)\n",
      "INFO:tensorflow:global_step/sec: 157.297\n",
      "INFO:tensorflow:loss = 0.929676, step = 4901 (0.636 sec)\n",
      "INFO:tensorflow:global_step/sec: 156.249\n",
      "INFO:tensorflow:loss = 0.849985, step = 5001 (0.641 sec)\n",
      "INFO:tensorflow:global_step/sec: 153.043\n",
      "INFO:tensorflow:loss = 1.53895, step = 5101 (0.652 sec)\n",
      "INFO:tensorflow:global_step/sec: 156.309\n",
      "INFO:tensorflow:loss = 1.27397, step = 5201 (0.640 sec)\n",
      "INFO:tensorflow:global_step/sec: 154.833\n",
      "INFO:tensorflow:loss = 0.730474, step = 5301 (0.646 sec)\n",
      "INFO:tensorflow:global_step/sec: 136.464\n",
      "INFO:tensorflow:loss = 0.624911, step = 5401 (0.734 sec)\n",
      "INFO:tensorflow:global_step/sec: 145.67\n",
      "INFO:tensorflow:loss = 1.31197, step = 5501 (0.685 sec)\n",
      "INFO:tensorflow:global_step/sec: 139.521\n",
      "INFO:tensorflow:loss = 1.47872, step = 5601 (0.717 sec)\n",
      "INFO:tensorflow:global_step/sec: 158.081\n",
      "INFO:tensorflow:loss = 3.50435, step = 5701 (0.633 sec)\n",
      "INFO:tensorflow:global_step/sec: 139.229\n",
      "INFO:tensorflow:loss = 0.93678, step = 5801 (0.718 sec)\n",
      "INFO:tensorflow:global_step/sec: 157.898\n",
      "INFO:tensorflow:loss = 0.699645, step = 5901 (0.633 sec)\n",
      "INFO:tensorflow:Saving checkpoints for 6000 into ./graphs/04_canned/deep/model.ckpt.\n",
      "INFO:tensorflow:Loss for final step: 1.25849.\n"
     ]
    },
    {
     "data": {
      "text/plain": [
       "<tensorflow.python.estimator.canned.dnn.DNNClassifier at 0x11f9bf4a8>"
      ]
     },
     "execution_count": 13,
     "metadata": {},
     "output_type": "execute_result"
    }
   ],
   "source": [
    "# I've arbitrarily decided to train for 2000 steps\n",
    "estimator.train(train_input, steps=2000)"
   ]
  },
  {
   "cell_type": "code",
   "execution_count": 14,
   "metadata": {},
   "outputs": [
    {
     "name": "stdout",
     "output_type": "stream",
     "text": [
      "INFO:tensorflow:Starting evaluation at 2017-10-03-21:15:48\n",
      "INFO:tensorflow:Restoring parameters from ./graphs/04_canned/deep/model.ckpt-6000\n",
      "INFO:tensorflow:Finished evaluation at 2017-10-03-21:15:49\n",
      "INFO:tensorflow:Saving dict for global step 6000: accuracy = 0.9764, average_loss = 0.0935217, global_step = 6000, loss = 11.8382\n",
      "{'accuracy': 0.97640002, 'average_loss': 0.09352167, 'loss': 11.838185, 'global_step': 6000}\n"
     ]
    }
   ],
   "source": [
    "# Expect accuracy around 97%\n",
    "evaluation = estimator.evaluate(input_fn=test_input)\n",
    "print(evaluation)"
   ]
  },
  {
   "cell_type": "markdown",
   "metadata": {},
   "source": [
    "## TensorBoard"
   ]
  },
  {
   "cell_type": "markdown",
   "metadata": {},
   "source": [
    "If you like, you can start TensorBoard by running this from a terminal command (in the same directory as this notebook):\n",
    "\n",
    "``` $ tensorboard --logdir=./graphs/04_canned/ ```\n",
    "\n",
    "then pointing your web-browser to http://localhost:6006 (check the TensorBoard output in the terminal in case it's running on a different port).\n",
    "\n",
    "When that launches, you'll be able to see a variety of graphs that compares the linear and deep models."
   ]
  },
  {
   "cell_type": "markdown",
   "metadata": {},
   "source": [
    "# More models"
   ]
  },
  {
   "cell_type": "markdown",
   "metadata": {
    "collapsed": true
   },
   "source": [
    "Although the Estimators we used here are relative simple (a LinearClassifier, and a Fully Connected Deep Neural Network), TensorFlow also provides more interesting ones (e.g. a [Wide and Deep model](https://www.tensorflow.org/tutorials/wide_and_deep).\n",
    "\n",
    "To learn more about Estimators, you can watch this talk from Google I/O by Martin Wicke: [Effective TensorFlow for Non-Experts](https://www.youtube.com/watch?v=5DknTFbcGVM)."
   ]
  },
  {
   "cell_type": "code",
   "execution_count": null,
   "metadata": {
    "collapsed": true
   },
   "outputs": [],
   "source": []
  }
 ],
 "metadata": {
  "kernelspec": {
   "display_name": "Python 3",
   "language": "python",
   "name": "python3"
  },
  "language_info": {
   "codemirror_mode": {
    "name": "ipython",
    "version": 3
   },
   "file_extension": ".py",
   "mimetype": "text/x-python",
   "name": "python",
   "nbconvert_exporter": "python",
   "pygments_lexer": "ipython3",
   "version": "3.6.2"
  }
 },
 "nbformat": 4,
 "nbformat_minor": 2
}
