{
 "cells": [
  {
   "cell_type": "markdown",
   "metadata": {},
   "source": [
    "# Exercise 2: Logistic Regression"
   ]
  },
  {
   "cell_type": "markdown",
   "metadata": {},
   "source": [
    "The [Wisconsin Breast Cancer dataset](https://archive.ics.uci.edu/ml/datasets/Breast+Cancer+Wisconsin+%28Diagnostic%29) contains features computed from a digitized image of a fine needle aspirate (FNA) of a breast mass. After segmenting cell nuclei present in the image, ten nuclear features were calculated for each cell. These features are modeled such that higher values are typically associated with malignancy. The mean value, worst (mean of the three largest values), and standard error of each feature were computed for each image, resulting in a total of 30 features for each case in the study:\n",
    "\n",
    "1. radius (mean of distances from center to points on the perimeter)\n",
    "2. texture (standard deviation of gray-scale values)\n",
    "3. perimeter\n",
    "4. area\n",
    "5. smoothness (local variation in radius lengths)\n",
    "6. compactness (perimeter^2 / area - 1.0)\n",
    "7. concavity (severity of concave portions of the contour)\n",
    "8. concave points (number of concave portions of the contour)\n",
    "9. symmetry \n",
    "10. fractal dimension (\"coastline approximation\" - 1)\n",
    "\n",
    "The objective is to determine how points can best be separated into *benign* and *malignant* sets in the case of diagnosis, and into *recurring* and *nonrecurring* sets in the case of prognosis."
   ]
  },
  {
   "cell_type": "code",
   "execution_count": 1,
   "metadata": {
    "collapsed": true
   },
   "outputs": [],
   "source": [
    "import pandas as pd\n",
    "import tensorflow as tf\n",
    "import matplotlib.pyplot as plt\n",
    "%matplotlib inline"
   ]
  },
  {
   "cell_type": "code",
   "execution_count": 2,
   "metadata": {},
   "outputs": [],
   "source": [
    "def image_features():\n",
    "    names = ['radius', 'texture', 'perimeter', 'area', 'smoothness', 'compactness',\n",
    "             'concavity', 'concave points', 'symmetry', 'fractal dimension']\n",
    "\n",
    "    columns = [\"mean_{}\".format(v) for v in names]\n",
    "    columns.extend([\"se_{}\".format(v) for v in names])\n",
    "    columns.extend([\"worst_{}\".format(v) for v in names])\n",
    "    return columns\n",
    "\n",
    "\n",
    "def load_wisconsin_breast_cancer_diagnosis(local_file='datasets/wdbc.data'):\n",
    "    columns = ['ID', 'diagnosis']\n",
    "    columns.extend(image_features())\n",
    "\n",
    "    data = pd.read_csv(local_file, index_col=0, header=None,\n",
    "                       names=columns, dtype={'diagnosis': 'category'})\n",
    "    y = data.diagnosis.cat.rename_categories(['benign', 'malignant'])\n",
    "    X = data.drop('diagnosis', axis=1).astype(float)\n",
    "    return X, y\n",
    "\n",
    "\n",
    "def load_wisconsin_breast_cancer_prognosis(local_file='datasets/wpbc.data'):\n",
    "    columns = ['ID', 'outcome', 'time']\n",
    "    outcomes = columns[1:]\n",
    "    extra_vars = ['tumor_size', 'lymph_node_status']\n",
    "    columns.extend(image_features())\n",
    "    columns.extend(extra_vars)\n",
    "\n",
    "    data = pd.read_csv(local_file, index_col=0, header=None,\n",
    "                       names=columns, dtype={'outcome': 'category'},\n",
    "                       na_values=['?'])\n",
    "    y = data.loc[:, outcomes]\n",
    "    y.outcome.cat.rename_categories(['nonrecurring', 'recurring'], inplace=True)\n",
    "    X = data.drop(outcomes, axis=1).astype(float)\n",
    "    return X, y "
   ]
  },
  {
   "cell_type": "markdown",
   "metadata": {},
   "source": [
    "## Task 1: Benign vs Malignant\n",
    "\n",
    "First, we want to classify individual cell nuclei as *benign* or *malignant* based on the 30 features derived from the images."
   ]
  },
  {
   "cell_type": "code",
   "execution_count": 3,
   "metadata": {},
   "outputs": [
    {
     "name": "stdout",
     "output_type": "stream",
     "text": [
      "(569, 30)\n",
      "benign       357\n",
      "malignant    212\n",
      "dtype: int64\n"
     ]
    }
   ],
   "source": [
    "X_diagnosis, y_diagnosis = load_wisconsin_breast_cancer_diagnosis()\n",
    "\n",
    "print(X_diagnosis.shape)\n",
    "print(y_diagnosis.value_counts())"
   ]
  },
  {
   "cell_type": "code",
   "execution_count": null,
   "metadata": {
    "collapsed": true
   },
   "outputs": [],
   "source": []
  },
  {
   "cell_type": "markdown",
   "metadata": {},
   "source": [
    "## Task 2: Recurrence\n",
    "\n",
    "Next, we want to create a model to predict *recurrence before 24 months* vs. *nonrecurrence beyond 24 months*. The data has two additional features:\n",
    "\n",
    "1. Tumor size (diameter of the excised tumor in centimeters)\n",
    "2. Lymph node status (number of positive axillary lymph nodes observed at time of surgery).\n",
    "\n",
    "**Note:** Lymph node status is missing in 4 cases."
   ]
  },
  {
   "cell_type": "code",
   "execution_count": 4,
   "metadata": {},
   "outputs": [
    {
     "name": "stdout",
     "output_type": "stream",
     "text": [
      "(198, 32)\n",
      "nonrecurring    151\n",
      "recurring        47\n",
      "Name: outcome, dtype: int64\n"
     ]
    },
    {
     "data": {
      "text/plain": [
       "<matplotlib.legend.Legend at 0x11ddf35c0>"
      ]
     },
     "execution_count": 4,
     "metadata": {},
     "output_type": "execute_result"
    },
    {
     "data": {
      "image/png": "[encoded data removed]",
      "text/plain": [
       "<matplotlib.figure.Figure at 0x11ddf3128>"
      ]
     },
     "metadata": {},
     "output_type": "display_data"
    }
   ],
   "source": [
    "X_prognosis, y_prognosis = load_wisconsin_breast_cancer_prognosis()\n",
    "\n",
    "print(X_prognosis.shape)\n",
    "print(y_prognosis.outcome.value_counts())\n",
    "\n",
    "plt.hist([\n",
    "    y_prognosis.time[y_prognosis.outcome == 'recurring'],\n",
    "    y_prognosis.time[y_prognosis.outcome == 'nonrecurring'],\n",
    "], label=['recurring', 'nonrecurring'])\n",
    "plt.ylabel('Frequency')\n",
    "plt.xlabel('Time')\n",
    "plt.legend()"
   ]
  },
  {
   "cell_type": "code",
   "execution_count": null,
   "metadata": {
    "collapsed": true
   },
   "outputs": [],
   "source": []
  }
 ],
 "metadata": {
  "kernelspec": {
   "display_name": "Python 3",
   "language": "python",
   "name": "python3"
  },
  "language_info": {
   "codemirror_mode": {
    "name": "ipython",
    "version": 3
   },
   "file_extension": ".py",
   "mimetype": "text/x-python",
   "name": "python",
   "nbconvert_exporter": "python",
   "pygments_lexer": "ipython3",
   "version": "3.6.2"
  }
 },
 "nbformat": 4,
 "nbformat_minor": 2
}
