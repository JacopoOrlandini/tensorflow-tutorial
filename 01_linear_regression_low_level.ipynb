{
 "cells": [
  {
   "cell_type": "markdown",
   "metadata": {},
   "source": [
    "# Linear Regression\n",
    "\n",
    "This notebook demonstrates linear regression in TensorFlow, and visualizes the graph and summary data for the \n",
    "variables in TensorBoard."
   ]
  },
  {
   "cell_type": "code",
   "execution_count": 1,
   "metadata": {
    "collapsed": true
   },
   "outputs": [],
   "source": [
    "import numpy as np\n",
    "import matplotlib.pyplot as plt\n",
    "import tensorflow as tf\n",
    "\n",
    "# A special command for IPython Notebooks that\n",
    "# intructs Matplotlib to display plots in the notebook\n",
    "%matplotlib inline"
   ]
  },
  {
   "cell_type": "markdown",
   "metadata": {},
   "source": [
    "## Generating training and testing data"
   ]
  },
  {
   "cell_type": "markdown",
   "metadata": {},
   "source": [
    "This function will create a noisy dataset that's roughly linear, according to the equation\n",
    "\n",
    "$$\n",
    "y = f(x) = \\text{intercept} + \\text{slope} \\cdot x + \\text{noise}\n",
    "$$"
   ]
  },
  {
   "cell_type": "code",
   "execution_count": 2,
   "metadata": {
    "collapsed": true
   },
   "outputs": [],
   "source": [
    "def make_noisy_data(slope=0.1, intercept=0.3, n=100):\n",
    "    x = np.random.rand(n).astype(np.float32)\n",
    "    noise = np.random.normal(scale=0.01, size=len(x))\n",
    "    y = slope * x + intercept + noise\n",
    "    return x, y"
   ]
  },
  {
   "cell_type": "markdown",
   "metadata": {},
   "source": [
    "Let's create data for training and testing with ``slope = 0.1`` and ``intercept = 0.3``:"
   ]
  },
  {
   "cell_type": "code",
   "execution_count": 3,
   "metadata": {
    "collapsed": true
   },
   "outputs": [],
   "source": [
    "x_train, y_train = make_noisy_data()\n",
    "x_test, y_test = make_noisy_data()"
   ]
  },
  {
   "cell_type": "markdown",
   "metadata": {},
   "source": [
    "We can plot our training and testing data "
   ]
  },
  {
   "cell_type": "code",
   "execution_count": 4,
   "metadata": {},
   "outputs": [
    {
     "data": {
      "text/plain": [
       "<matplotlib.legend.Legend at 0x10c2889e8>"
      ]
     },
     "execution_count": 4,
     "metadata": {},
     "output_type": "execute_result"
    },
    {
     "data": {
      "image/png": "[encoded data removed]",
      "text/plain": [
       "<matplotlib.figure.Figure at 0x10bfa7f28>"
      ]
     },
     "metadata": {},
     "output_type": "display_data"
    }
   ],
   "source": [
    "plt.plot(x_train, y_train, '.', label='training')\n",
    "plt.plot(x_test, y_test, '.', label='testing')\n",
    "plt.legend()"
   ]
  },
  {
   "cell_type": "markdown",
   "metadata": {},
   "source": [
    "## Building a regression model analytically"
   ]
  },
  {
   "cell_type": "markdown",
   "metadata": {},
   "source": [
    "Let's first remind us how we can obtain values for ``slope`` and ``intercept`` analytically. Given $n$ pairs $(x_i, y_i)$ as the training data, we want to solve the following system of linear equations:\n",
    "$$\n",
    "y_1 = \\text{intercept} + \\text{slope} \\cdot x_1, \\\\\n",
    "y_2 = \\text{intercept} + \\text{slope} \\cdot x_2, \\\\\n",
    "\\vdots \\\\\n",
    "y_n = \\text{intercept} + \\text{slope} \\cdot x_n,\n",
    "$$\n",
    "\n",
    "In matrix form the above becomes\n",
    "$$\\begin{align}\n",
    "(y_1, y_2, \\ldots, y_n)^\\top &= \\text{intercept} + \\text{slope} \\cdot (x_1, x_2, \\ldots, x_n)^\\top, \\\\\n",
    "\\mathbf{y} &= b + m \\cdot \\mathbf{x} ,\n",
    "\\end{align}\n",
    "$$\n",
    "where $b$ denotes the intercept and $m$ the slope."
   ]
  },
  {
   "cell_type": "markdown",
   "metadata": {},
   "source": [
    "Let's denote by $\\hat{b}$ and $\\hat{m}$ our guess of what the intercept and slope should be. Our guess shouldn't be completely arbitrary, of course. Instead, we want to obtain a best guess. Given a value on the x-axis $x_i$, we can estimate its corresponding value on the y-axis $\\hat{y}_i$ using $\\hat{b}$ and $\\hat{m}$ as\n",
    "$$\n",
    "\\hat{y}_i = \\hat{b} + \\hat{m} \\cdot x_i, \n",
    "$$\n",
    "and subsequently compare it to the actual value $y_i$. One way to determine how good our guess is, is to compute the squared difference:\n",
    "$$\n",
    "(\\hat{y}_i - y_i)^2 \\Leftrightarrow (\\hat{b} + \\hat{m} \\cdot x_i - y_i)^2  .\n",
    "$$\n",
    "\n",
    "Now, our objective is to find the best values for $\\hat{b}$ and $\\hat{m}$ such that $(\\hat{y}_i - y_i)^2$ is minimized across all pairs $(x_i, y_i)$, or in mathematical notation\n",
    "$$\\begin{align}\n",
    "   \\hat{b}, \\hat{m} &= \\arg\\min_{m, b} L(\\hat{\\mathbf{y}}, \\mathbf{y}) ,\\\\\n",
    "   L(\\hat{\\mathbf{y}}, \\mathbf{y})\n",
    "   &= \\frac{1}{n} \\sum_{i=1}^n (\\hat{y} - y_i)^2 \\\\\n",
    "   &= \\frac{1}{n} \\sum_{i=1}^n (b + m \\cdot x_i - y_i)^2\n",
    "\\end{align}\n",
    "$$\n",
    "We call the function $L$ the **squared error loss**."
   ]
  },
  {
   "cell_type": "markdown",
   "metadata": {},
   "source": [
    "From calculus we remember that finding the best values for $\\hat{b}$ and $\\hat{m}$ can be achieved by finding the root to the first derivative of $L$ with respect to $b$ and $m$, i.e.,\n",
    "$$\n",
    "    \\frac{d}{d~(b, m)^\\top} L (\\hat{\\mathbf{y}}, \\mathbf{y}) = 0 .\n",
    "$$\n",
    "Thus, the best guess is:\n",
    "\n",
    "$$\n",
    "\\frac{2}{n} \\begin{pmatrix}\\mathbf{1} & \\mathbf{x}\\end{pmatrix}^\\top \\left[\n",
    "\\begin{pmatrix}\\mathbf{1} & \\mathbf{x}\\end{pmatrix}\n",
    "\\begin{pmatrix}b \\\\ m\\end{pmatrix} - \\mathbf{y}\n",
    "\\right] = 0 \\\\\n",
    "\\begin{pmatrix}\\mathbf{1} & \\mathbf{x}\\end{pmatrix}^\\top \\begin{pmatrix}\\mathbf{1} & \\mathbf{x}\\end{pmatrix}\n",
    "\\begin{pmatrix}b \\\\ m\\end{pmatrix}\n",
    "= \\begin{pmatrix}\\mathbf{1} & \\mathbf{x}\\end{pmatrix}^\\top \\mathbf{y} \\\\\n",
    "\\begin{pmatrix}b \\\\ m\\end{pmatrix} =\n",
    "\\left[ \\begin{pmatrix}\\mathbf{1} & \\mathbf{x}\\end{pmatrix}^\\top \\begin{pmatrix}\\mathbf{1} & \\mathbf{x}\\end{pmatrix} \\right]^{-1} \n",
    "\\begin{pmatrix}\\mathbf{1} & \\mathbf{x}\\end{pmatrix}^\\top \\mathbf{y}\n",
    "$$"
   ]
  },
  {
   "cell_type": "markdown",
   "metadata": {},
   "source": [
    "Let's compute the best estimates of the slope and intercept using just numpy."
   ]
  },
  {
   "cell_type": "code",
   "execution_count": 5,
   "metadata": {},
   "outputs": [
    {
     "name": "stdout",
     "output_type": "stream",
     "text": [
      "estimated_intercept:\t 0.299039927874\n",
      "estimated_slope:\t 0.102142385733\n"
     ]
    },
    {
     "data": {
      "text/plain": [
       "<matplotlib.legend.Legend at 0x10c821e80>"
      ]
     },
     "execution_count": 5,
     "metadata": {},
     "output_type": "execute_result"
    },
    {
     "data": {
      "image/png": "[encoded data removed]",
      "text/plain": [
       "<matplotlib.figure.Figure at 0x10c3927f0>"
      ]
     },
     "metadata": {},
     "output_type": "display_data"
    }
   ],
   "source": [
    "one_x = np.column_stack((np.ones(x_train.shape[0]), x_train))\n",
    "XtX = np.dot(one_x.T, one_x)\n",
    "Xy = np.dot(one_x.T, y_train)\n",
    "estimated_intercept, estimated_slope = np.linalg.solve(XtX, Xy)\n",
    "print(\"estimated_intercept:\\t\", estimated_intercept)\n",
    "print(\"estimated_slope:\\t\", estimated_slope)\n",
    "\n",
    "plt.plot(x_train, y_train, '.')\n",
    "plt.plot([0, 1], [estimated_intercept, estimated_intercept + estimated_slope],\n",
    "         lw=3, label='estimated')\n",
    "plt.plot([0, 1], [0.3, 0.3 + 0.1], '--',\n",
    "         lw=3, label='actual')\n",
    "plt.legend()"
   ]
  },
  {
   "cell_type": "markdown",
   "metadata": {},
   "source": [
    "Our estimates are very close to actual values of 0.3 and 0.1."
   ]
  },
  {
   "cell_type": "markdown",
   "metadata": {},
   "source": [
    "## Building a regression model with TensorFlow"
   ]
  },
  {
   "cell_type": "markdown",
   "metadata": {},
   "source": [
    "Instead of us finding the root of the first derivative of the squared error loss, we can also formulate the minimization problem using TensorFlow and let TensorFlow find the solution without us doing any calculus.\n",
    "\n",
    "We start by creating an empty graph and a new instance of ``tf.Session``."
   ]
  },
  {
   "cell_type": "code",
   "execution_count": 6,
   "metadata": {
    "collapsed": true
   },
   "outputs": [],
   "source": [
    "tf.reset_default_graph()\n",
    "sess = tf.Session()"
   ]
  },
  {
   "cell_type": "markdown",
   "metadata": {},
   "source": [
    "### Placeholders"
   ]
  },
  {
   "cell_type": "markdown",
   "metadata": {},
   "source": [
    "Next we need to build the computation graph by creating nodes for points on the x-axis and their associated values on the y-axis."
   ]
  },
  {
   "cell_type": "code",
   "execution_count": 7,
   "metadata": {
    "collapsed": true
   },
   "outputs": [],
   "source": [
    "x_placeholder = tf.placeholder(shape=[None], dtype=tf.float32, name='x-input')\n",
    "y_placeholder = tf.placeholder(shape=[None], dtype=tf.float32, name='y-input')"
   ]
  },
  {
   "cell_type": "code",
   "execution_count": 8,
   "metadata": {},
   "outputs": [
    {
     "name": "stdout",
     "output_type": "stream",
     "text": [
      "Tensor(\"x-input:0\", shape=(?,), dtype=float32)\n",
      "Tensor(\"y-input:0\", shape=(?,), dtype=float32)\n"
     ]
    }
   ],
   "source": [
    "print(x_placeholder)\n",
    "print(y_placeholder)"
   ]
  },
  {
   "cell_type": "markdown",
   "metadata": {},
   "source": [
    "Here ``x_placeholder`` and ``y_placeholder`` aren't specific values. Rather, they are each a placeholder – a value that we'll input when we ask TensorFlow to run a computation. The input ``x_placeholder`` will consist of a 1d tensor (vector) of floating point numbers. Here we assign it a shape of ``[None]``, which indicates that the length of the input vector, corresponding to the batch size, can be of any size. The target output values ``y_placeholder`` is another 1d tensor of any size."
   ]
  },
  {
   "cell_type": "markdown",
   "metadata": {},
   "source": [
    "### Variables"
   ]
  },
  {
   "cell_type": "markdown",
   "metadata": {},
   "source": [
    "We now define the slope and intercept in our linear model $y = \\text{intercept} + \\text{slope} \\cdot x$ using ``tf.Variable``. A ``tf.Variable`` is a value that lives in TensorFlow's computation graph. It can be used and even modified by the computation. In machine learning applications, one generally has the unknown model parameters be ``Variable``s."
   ]
  },
  {
   "cell_type": "code",
   "execution_count": 9,
   "metadata": {
    "collapsed": true
   },
   "outputs": [],
   "source": [
    "slope = tf.Variable(tf.zeros([1]), name='slope')\n",
    "intercept = tf.Variable(tf.zeros([1]), name='intercept')"
   ]
  },
  {
   "cell_type": "code",
   "execution_count": 10,
   "metadata": {},
   "outputs": [
    {
     "name": "stdout",
     "output_type": "stream",
     "text": [
      "<tf.Variable 'slope:0' shape=(1,) dtype=float32_ref>\n",
      "<tf.Variable 'intercept:0' shape=(1,) dtype=float32_ref>\n"
     ]
    }
   ],
   "source": [
    "print(slope)\n",
    "print(intercept)"
   ]
  },
  {
   "cell_type": "markdown",
   "metadata": {},
   "source": [
    "We pass the initial value for each parameter in the call to ``tf.Variable``. In this case, we initialize both ``slope`` and ``intercept`` as tensors full of zeros."
   ]
  },
  {
   "cell_type": "markdown",
   "metadata": {},
   "source": [
    "Before ``tf.Variable``s can be used within a session, they must be initialized using that session. This step takes the initial values (in this case tensors full of zeros) that have already been specified, and assigns them to each ``tf.Variable``. This can be done for all ``tf.Variable``s at once:"
   ]
  },
  {
   "cell_type": "code",
   "execution_count": 11,
   "metadata": {
    "collapsed": true
   },
   "outputs": [],
   "source": [
    "sess.run(tf.global_variables_initializer())"
   ]
  },
  {
   "cell_type": "markdown",
   "metadata": {},
   "source": [
    "### Loss function"
   ]
  },
  {
   "cell_type": "markdown",
   "metadata": {},
   "source": [
    "We can now implement our regression model. It only takes one line! We multiply the input vector $x$ by the slope and add the intercept."
   ]
  },
  {
   "cell_type": "code",
   "execution_count": 12,
   "metadata": {
    "collapsed": true
   },
   "outputs": [],
   "source": [
    "# This is the same as y = tf.add(tf.mul(slope, x_placeholder), intercept), but looks nicer\n",
    "y = slope * x_placeholder + intercept"
   ]
  },
  {
   "cell_type": "code",
   "execution_count": 13,
   "metadata": {},
   "outputs": [
    {
     "name": "stdout",
     "output_type": "stream",
     "text": [
      "Tensor(\"add:0\", shape=(?,), dtype=float32)\n"
     ]
    }
   ],
   "source": [
    "print(y)"
   ]
  },
  {
   "cell_type": "markdown",
   "metadata": {},
   "source": [
    "We can specify a loss function just as easily. Loss indicates how bad the model's prediction was on a single example; we try to minimize that while training across all the examples. Here, our loss function is squared error loss."
   ]
  },
  {
   "cell_type": "code",
   "execution_count": 14,
   "metadata": {
    "collapsed": true
   },
   "outputs": [],
   "source": [
    "loss = tf.reduce_mean(tf.square(y - y_placeholder))"
   ]
  },
  {
   "cell_type": "code",
   "execution_count": 15,
   "metadata": {},
   "outputs": [
    {
     "name": "stdout",
     "output_type": "stream",
     "text": [
      "Tensor(\"Mean:0\", shape=(), dtype=float32)\n"
     ]
    }
   ],
   "source": [
    "print(loss)"
   ]
  },
  {
   "cell_type": "markdown",
   "metadata": {},
   "source": [
    "### Training the model"
   ]
  },
  {
   "cell_type": "markdown",
   "metadata": {},
   "source": [
    "Now that we have defined our model and training loss function, it is straightforward to train using TensorFlow. Because TensorFlow knows the entire computation graph, it can use automatic differentiation to find the gradients of the loss with respect to each of the variables. TensorFlow has a variety of [built-in optimization algorithms](https://www.tensorflow.org/api_guides/python/train#optimizers). For this example, we will use steepest gradient descent, with a step length of 0.5, to descend the squared error loss."
   ]
  },
  {
   "cell_type": "code",
   "execution_count": 16,
   "metadata": {
    "collapsed": true
   },
   "outputs": [],
   "source": [
    "LEARNING_RATE = 0.5\n",
    "\n",
    "optimizer = tf.train.GradientDescentOptimizer(LEARNING_RATE)\n",
    "train_step = optimizer.minimize(loss) "
   ]
  },
  {
   "cell_type": "markdown",
   "metadata": {},
   "source": [
    "What TensorFlow actually did in that single line was to add new operations to the computation graph. These operations included ones to compute gradients, compute parameter update steps, and apply update steps to the parameters.\n",
    "\n",
    "The returned operation ``train_step``, when run, will apply the gradient descent updates to the parameters. Training the model can therefore be accomplished by repeatedly running ``train_step``."
   ]
  },
  {
   "cell_type": "code",
   "execution_count": 17,
   "metadata": {},
   "outputs": [
    {
     "name": "stdout",
     "output_type": "stream",
     "text": [
      "0 [array([ 0.16920148], dtype=float32), array([ 0.34651273], dtype=float32)]\n",
      "20 [array([ 0.1112629], dtype=float32), array([ 0.29450709], dtype=float32)]\n",
      "40 [array([ 0.10452887], dtype=float32), array([ 0.29785386], dtype=float32)]\n",
      "60 [array([ 0.10276684], dtype=float32), array([ 0.29872957], dtype=float32)]\n",
      "80 [array([ 0.10230578], dtype=float32), array([ 0.29895872], dtype=float32)]\n",
      "100 [array([ 0.10218513], dtype=float32), array([ 0.29901868], dtype=float32)]\n",
      "120 [array([ 0.10215358], dtype=float32), array([ 0.29903436], dtype=float32)]\n",
      "140 [array([ 0.10214531], dtype=float32), array([ 0.29903847], dtype=float32)]\n",
      "160 [array([ 0.10214316], dtype=float32), array([ 0.29903954], dtype=float32)]\n",
      "180 [array([ 0.10214259], dtype=float32), array([ 0.29903984], dtype=float32)]\n",
      "200 [array([ 0.10214248], dtype=float32), array([ 0.29903987], dtype=float32)]\n"
     ]
    }
   ],
   "source": [
    "TRAIN_STEPS = 201\n",
    "\n",
    "for step in range(TRAIN_STEPS):\n",
    "    sess.run(train_step,\n",
    "             feed_dict={x_placeholder: x_train,\n",
    "                        y_placeholder: y_train})\n",
    "\n",
    "    # print the current estimates every 20-th step\n",
    "    if step % 20 == 0:\n",
    "        print(step, sess.run([slope, intercept]))"
   ]
  },
  {
   "cell_type": "markdown",
   "metadata": {},
   "source": [
    "We then run the ``train_step`` operation, using ``feed_dict`` to replace the placeholder tensors ``x_placeholder`` and ``y_placeholder`` with the training examples. Note that you can replace any tensor in your computation graph using ``feed_dict`` – it's not restricted to just placeholders."
   ]
  },
  {
   "cell_type": "markdown",
   "metadata": {},
   "source": [
    "Let's find out what the estimated values for intercept and slope are after training completed."
   ]
  },
  {
   "cell_type": "code",
   "execution_count": 18,
   "metadata": {},
   "outputs": [
    {
     "name": "stdout",
     "output_type": "stream",
     "text": [
      "slope: 0.102142, intercept: 0.299040\n"
     ]
    }
   ],
   "source": [
    "print (\"slope: %f, intercept: %f\" % (sess.run(slope), sess.run(intercept)))"
   ]
  },
  {
   "cell_type": "markdown",
   "metadata": {},
   "source": [
    "### Making predictions"
   ]
  },
  {
   "cell_type": "markdown",
   "metadata": {},
   "source": [
    "Now that we trained our model, let's make predictions! Remember, that we use ``feed_dict`` to replace the placeholders with actual data, in this case our test data."
   ]
  },
  {
   "cell_type": "code",
   "execution_count": 19,
   "metadata": {},
   "outputs": [
    {
     "data": {
      "text/plain": [
       "array([ 0.50332487], dtype=float32)"
      ]
     },
     "execution_count": 19,
     "metadata": {},
     "output_type": "execute_result"
    }
   ],
   "source": [
    "sess.run(y, feed_dict={x_placeholder: [2]})"
   ]
  },
  {
   "cell_type": "markdown",
   "metadata": {},
   "source": [
    "Remember that ``x_placeholder`` must be a vector, hence ``[2]`` not just ``2``.\n",
    "We expect the result to be (about): $0.3 + 2 \\cdot 0.1 = 0.5$.\n",
    "\n",
    "In a similar way, we can compute the mean squared error on the test data:"
   ]
  },
  {
   "cell_type": "code",
   "execution_count": 20,
   "metadata": {},
   "outputs": [
    {
     "data": {
      "text/plain": [
       "0.000105707"
      ]
     },
     "execution_count": 20,
     "metadata": {},
     "output_type": "execute_result"
    }
   ],
   "source": [
    "sess.run(loss, feed_dict={x_placeholder: x_test, y_placeholder: y_test})"
   ]
  },
  {
   "cell_type": "code",
   "execution_count": null,
   "metadata": {
    "collapsed": true
   },
   "outputs": [],
   "source": []
  }
 ],
 "metadata": {
  "kernelspec": {
   "display_name": "Python 3",
   "language": "python",
   "name": "python3"
  },
  "language_info": {
   "codemirror_mode": {
    "name": "ipython",
    "version": 3
   },
   "file_extension": ".py",
   "mimetype": "text/x-python",
   "name": "python",
   "nbconvert_exporter": "python",
   "pygments_lexer": "ipython3",
   "version": "3.6.2"
  }
 },
 "nbformat": 4,
 "nbformat_minor": 2
}
